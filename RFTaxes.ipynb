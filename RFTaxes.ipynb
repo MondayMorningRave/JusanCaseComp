{
 "cells": [
  {
   "cell_type": "code",
   "execution_count": 51,
   "id": "2157c3fd",
   "metadata": {},
   "outputs": [],
   "source": [
    "import pandas as pd\n",
    "import numpy as np\n",
    "\n",
    "GDP = np.array([43151647003, 57123671734, 81003884545, 1.0485E+11, 1.33442E+11, 1.15309E+11, \n",
    "                1.48047E+11, 1.92627E+11, 2.07999E+11, 2.36635E+11, 2.21416E+11, 1.84388E+11, \n",
    "                1.37278E+11, 1.66806E+11, 1.7934E+11, 1.81667E+11, 1.71082E+11, 1.97112E+11, \n",
    "                2.20495E+11])\n",
    "\n",
    "inflation_rate = np.array([0.0688, 0.0758, 0.0872, 0.1085, 0.1714, 0.0732, 0.074, 0.0842, \n",
    "                           0.051, 0.0585, 0.0671, 0.0667, 0.1455, 0.0744, 0.0602, 0.0525, \n",
    "                           0.0675, 0.08, 0.203])\n",
    "\n",
    "production = np.array([2.647203315, 2.833078056, 2.924707228, 3.040792351, 3.01696266, \n",
    "                       3.244222215, 3.394558458, 3.45714065, 3.392932546, 3.499920042, \n",
    "                       3.629783129, 3.692041199, 3.584883791, 3.964865605, 4.149895762, \n",
    "                       4.150441347, 3.933291107, 3.930674581, 4.250786348])\n",
    "\n",
    "consumption = np.array([0.384390744, 0.416543317, 0.43681608, 0.466726143, 0.53680021, \n",
    "                        0.407592473, 0.478710469, 0.553139883, 0.502244584, 0.507464084, \n",
    "                        0.504762304, 0.641371174, 0.68114193, 0.680664787, 0.641846461, \n",
    "                        0.626333032, 0.577749817, 0.581853434, 0.672511896])\n",
    "\n",
    "oil_prices = np.array([43.36, 61.06, 60.85, 95.95, 44.6, 79.39, 91.38,\n",
    "                       98.83, 91.83, 98.17, 53.45, 37.13, 53.75, 60.46,\n",
    "                       45.15, 61.14, 48.52, 75.21, 80.51])\n",
    "\n",
    "data = {\n",
    "    'GDP': GDP,\n",
    "    'Inflation Rate': inflation_rate,\n",
    "    'Production': production,\n",
    "    'Consumption': consumption,\n",
    "    'Oil Prices': oil_prices\n",
    "}\n",
    "\n",
    "df = pd.DataFrame(data)"
   ]
  },
  {
   "cell_type": "code",
   "execution_count": 52,
   "id": "aa4aca3e",
   "metadata": {},
   "outputs": [
    {
     "name": "stdout",
     "output_type": "stream",
     "text": [
      "             GDP  Inflation Rate  Production  Consumption  Oil Prices  \\\n",
      "0   4.315165e+10          0.0688    2.647203     0.384391       43.36   \n",
      "1   5.712367e+10          0.0758    2.833078     0.416543       61.06   \n",
      "2   8.100388e+10          0.0872    2.924707     0.436816       60.85   \n",
      "3   1.048500e+11          0.1085    3.040792     0.466726       95.95   \n",
      "4   1.334420e+11          0.1714    3.016963     0.536800       44.60   \n",
      "5   1.153090e+11          0.0732    3.244222     0.407592       79.39   \n",
      "6   1.480470e+11          0.0740    3.394558     0.478710       91.38   \n",
      "7   1.926270e+11          0.0842    3.457141     0.553140       98.83   \n",
      "8   2.079990e+11          0.0510    3.392933     0.502245       91.83   \n",
      "9   2.366350e+11          0.0585    3.499920     0.507464       98.17   \n",
      "10  2.214160e+11          0.0671    3.629783     0.504762       53.45   \n",
      "11  1.843880e+11          0.0667    3.692041     0.641371       37.13   \n",
      "12  1.372780e+11          0.1455    3.584884     0.681142       53.75   \n",
      "13  1.668060e+11          0.0744    3.964866     0.680665       60.46   \n",
      "14  1.793400e+11          0.0602    4.149896     0.641846       45.15   \n",
      "15  1.816670e+11          0.0525    4.150441     0.626333       61.14   \n",
      "16  1.710820e+11          0.0675    3.933291     0.577750       48.52   \n",
      "17  1.971120e+11          0.0800    3.930675     0.581853       75.21   \n",
      "18  2.204950e+11          0.2030    4.250786     0.672512       80.51   \n",
      "\n",
      "    Income Tax Expense  \n",
      "0             5151.822  \n",
      "1             5865.484  \n",
      "2             8073.210  \n",
      "3             9481.204  \n",
      "4             -285.971  \n",
      "5            12856.131  \n",
      "6             6463.907  \n",
      "7             6727.552  \n",
      "8             8550.163  \n",
      "9            13847.161  \n",
      "10           15698.946  \n",
      "11           22606.458  \n",
      "12           10379.736  \n",
      "13           15824.330  \n",
      "14           13711.421  \n",
      "15           13954.211  \n",
      "16           13135.711  \n",
      "17           12390.832  \n",
      "18            5124.419  \n"
     ]
    }
   ],
   "source": [
    "income_tax_expense_str = '5151.822 5865.484 8073.21 9481.204 -285.971 12856.131 6463.907 6727.552 8550.163 13847.161 15698.946 22606.458 10379.736 15824.33 13711.421 13954.211 13135.711 12390.832 5124.419'\n",
    "income_tax_expense_list = income_tax_expense_str.split()\n",
    "income_tax_expense = np.array([float(ite) for ite in income_tax_expense_list])\n",
    "\n",
    "data['Income Tax Expense'] = income_tax_expense\n",
    "\n",
    "new_df = pd.DataFrame(data)\n",
    "print(new_df)"
   ]
  },
  {
   "cell_type": "code",
   "execution_count": 53,
   "id": "eb2c9675",
   "metadata": {},
   "outputs": [],
   "source": [
    "from sklearn.ensemble import RandomForestRegressor\n",
    "from sklearn.model_selection import train_test_split, cross_val_score\n",
    "from sklearn.preprocessing import MinMaxScaler\n",
    "from sklearn.metrics import mean_squared_error, r2_score\n",
    "X = new_df.drop('Income Tax Expense', axis=1)\n",
    "y = new_df['Income Tax Expense']"
   ]
  },
  {
   "cell_type": "code",
   "execution_count": 54,
   "id": "ff806673",
   "metadata": {},
   "outputs": [],
   "source": [
    "X_train, X_test, y_train, y_test = train_test_split(X, y, test_size=0.2, random_state=1)"
   ]
  },
  {
   "cell_type": "code",
   "execution_count": 55,
   "id": "f0e853b1",
   "metadata": {},
   "outputs": [],
   "source": [
    "scaler = MinMaxScaler()\n",
    "X_train_scaled = scaler.fit_transform(X_train)\n",
    "X_test_scaled = scaler.transform(X_test)"
   ]
  },
  {
   "cell_type": "code",
   "execution_count": 56,
   "id": "6cf0cd6c",
   "metadata": {},
   "outputs": [
    {
     "name": "stdout",
     "output_type": "stream",
     "text": [
      "Best hyperparameters: {'max_depth': None, 'max_features': 'auto', 'min_samples_leaf': 1, 'min_samples_split': 5, 'n_estimators': 200}\n"
     ]
    }
   ],
   "source": [
    "from sklearn.model_selection import GridSearchCV\n",
    "from math import sqrt\n",
    "# Creating the parameter grid for the grid search\n",
    "param_grid = {\n",
    "    'n_estimators': [10, 50, 100, 200],\n",
    "    'max_depth': [None, 10, 20, 30],\n",
    "    'min_samples_split': [2, 5, 10],\n",
    "    'min_samples_leaf': [1, 2, 4],\n",
    "    'max_features': ['auto', 'sqrt']\n",
    "}\n",
    "\n",
    "# Creating the RandomForestRegressor model\n",
    "rf = RandomForestRegressor(random_state=1)\n",
    "\n",
    "# Performing the grid search with RMSE as the scoring metric\n",
    "grid_search = GridSearchCV(estimator=rf, param_grid=param_grid, scoring='neg_root_mean_squared_error', cv=5, n_jobs=-1)\n",
    "\n",
    "# Fitting the grid search to the training data\n",
    "grid_search.fit(X_train_scaled, y_train)\n",
    "\n",
    "# Getting the best hyperparameters\n",
    "best_params = grid_search.best_params_\n",
    "print(f\"Best hyperparameters: {best_params}\")"
   ]
  },
  {
   "cell_type": "code",
   "execution_count": 57,
   "id": "846133f2",
   "metadata": {},
   "outputs": [
    {
     "name": "stdout",
     "output_type": "stream",
     "text": [
      "Root Mean Squared Error: 2613.45\n"
     ]
    }
   ],
   "source": [
    "# Creating a new RandomForestRegressor model with the best hyperparameters\n",
    "best_rf = RandomForestRegressor(**best_params, random_state=1)\n",
    "\n",
    "# Fitting the model to the training data\n",
    "best_rf.fit(X_train_scaled, y_train)\n",
    "\n",
    "# Making predictions on the test data\n",
    "y_pred = best_rf.predict(X_test_scaled)\n",
    "\n",
    "# Calculating the RMSE\n",
    "rmse = sqrt(mean_squared_error(y_test, y_pred))\n",
    "print(f\"Root Mean Squared Error: {rmse:.2f}\")"
   ]
  },
  {
   "cell_type": "code",
   "execution_count": 58,
   "id": "92ed6850",
   "metadata": {},
   "outputs": [],
   "source": [
    "def predict_taxes(gdp, inflation_rate, production, consumption, oil_price):\n",
    "    # Create a DataFrame from the input values\n",
    "    input_data = pd.DataFrame({\n",
    "        'GDP': [gdp],\n",
    "        'Inflation Rate': [inflation_rate],\n",
    "        'Production': [production],\n",
    "        'Consumption': [consumption],\n",
    "        'Oil Prices': [oil_price]\n",
    "    })\n",
    "\n",
    "    # Scale the input data using the same scaler used for training data\n",
    "    input_data_scaled = scaler.transform(input_data)\n",
    "\n",
    "    # Make the prediction using the best_rf model\n",
    "    predicted_taxes = best_rf.predict(input_data_scaled)[0]\n",
    "\n",
    "    return predicted_taxes"
   ]
  },
  {
   "cell_type": "code",
   "execution_count": 70,
   "id": "6488b37a",
   "metadata": {},
   "outputs": [
    {
     "name": "stdout",
     "output_type": "stream",
     "text": [
      "Predicted taxes: 9910.94\n"
     ]
    }
   ],
   "source": [
    "gdp =  207999000000\n",
    "inflation_rate =  0.141\n",
    "production = 5.05257454\n",
    "consumption = 0.8323\n",
    "oil_price = 75.0035104\n",
    "\n",
    "predicted_taxes = predict_taxes(gdp, inflation_rate, production, consumption, oil_price)\n",
    "print(f\"Predicted taxes: {predicted_taxes:.2f}\")"
   ]
  }
 ],
 "metadata": {
  "kernelspec": {
   "display_name": "Python 3 (ipykernel)",
   "language": "python",
   "name": "python3"
  },
  "language_info": {
   "codemirror_mode": {
    "name": "ipython",
    "version": 3
   },
   "file_extension": ".py",
   "mimetype": "text/x-python",
   "name": "python",
   "nbconvert_exporter": "python",
   "pygments_lexer": "ipython3",
   "version": "3.9.7"
  }
 },
 "nbformat": 4,
 "nbformat_minor": 5
}

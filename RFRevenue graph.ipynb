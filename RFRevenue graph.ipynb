{
 "cells": [
  {
   "cell_type": "code",
   "execution_count": 2,
   "id": "948e5a77",
   "metadata": {},
   "outputs": [
    {
     "name": "stdout",
     "output_type": "stream",
     "text": [
      "             GDP  Inflation Rate  Production  Consumption  Oil Prices\n",
      "0   4.315165e+10          0.0688    2.647203     0.384391       43.36\n",
      "1   5.712367e+10          0.0758    2.833078     0.416543       61.06\n",
      "2   8.100388e+10          0.0872    2.924707     0.436816       60.85\n",
      "3   1.048500e+11          0.1085    3.040792     0.466726       95.95\n",
      "4   1.334420e+11          0.1714    3.016963     0.536800       44.60\n",
      "5   1.153090e+11          0.0732    3.244222     0.407592       79.39\n",
      "6   1.480470e+11          0.0740    3.394558     0.478710       91.38\n",
      "7   1.926270e+11          0.0842    3.457141     0.553140       98.83\n",
      "8   2.079990e+11          0.0510    3.392933     0.502245       91.83\n",
      "9   2.366350e+11          0.0585    3.499920     0.507464       98.17\n",
      "10  2.214160e+11          0.0671    3.629783     0.504762       53.45\n",
      "11  1.843880e+11          0.0667    3.692041     0.641371       37.13\n",
      "12  1.372780e+11          0.1455    3.584884     0.681142       53.75\n",
      "13  1.668060e+11          0.0744    3.964866     0.680665       60.46\n",
      "14  1.793400e+11          0.0602    4.149896     0.641846       45.15\n",
      "15  1.816670e+11          0.0525    4.150441     0.626333       61.14\n",
      "16  1.710820e+11          0.0675    3.933291     0.577750       48.52\n",
      "17  1.971120e+11          0.0800    3.930675     0.581853       75.21\n",
      "18  2.204950e+11          0.2030    4.250786     0.672512       80.51\n"
     ]
    }
   ],
   "source": [
    "import pandas as pd\n",
    "import numpy as np\n",
    "\n",
    "GDP = np.array([43151647003, 57123671734, 81003884545, 1.0485E+11, 1.33442E+11, 1.15309E+11, \n",
    "                1.48047E+11, 1.92627E+11, 2.07999E+11, 2.36635E+11, 2.21416E+11, 1.84388E+11, \n",
    "                1.37278E+11, 1.66806E+11, 1.7934E+11, 1.81667E+11, 1.71082E+11, 1.97112E+11, \n",
    "                2.20495E+11])\n",
    "\n",
    "inflation_rate = np.array([0.0688, 0.0758, 0.0872, 0.1085, 0.1714, 0.0732, 0.074, 0.0842, \n",
    "                           0.051, 0.0585, 0.0671, 0.0667, 0.1455, 0.0744, 0.0602, 0.0525, \n",
    "                           0.0675, 0.08, 0.203])\n",
    "\n",
    "production = np.array([2.647203315, 2.833078056, 2.924707228, 3.040792351, 3.01696266, \n",
    "                       3.244222215, 3.394558458, 3.45714065, 3.392932546, 3.499920042, \n",
    "                       3.629783129, 3.692041199, 3.584883791, 3.964865605, 4.149895762, \n",
    "                       4.150441347, 3.933291107, 3.930674581, 4.250786348])\n",
    "\n",
    "consumption = np.array([0.384390744, 0.416543317, 0.43681608, 0.466726143, 0.53680021, \n",
    "                        0.407592473, 0.478710469, 0.553139883, 0.502244584, 0.507464084, \n",
    "                        0.504762304, 0.641371174, 0.68114193, 0.680664787, 0.641846461, \n",
    "                        0.626333032, 0.577749817, 0.581853434, 0.672511896])\n",
    "\n",
    "oil_prices = np.array([43.36, 61.06, 60.85, 95.95, 44.6, 79.39, 91.38,\n",
    "                       98.83, 91.83, 98.17, 53.45, 37.13, 53.75, 60.46,\n",
    "                       45.15, 61.14, 48.52, 75.21, 80.51])\n",
    "\n",
    "data = {\n",
    "    'GDP': GDP,\n",
    "    'Inflation Rate': inflation_rate,\n",
    "    'Production': production,\n",
    "    'Consumption': consumption,\n",
    "    'Oil Prices': oil_prices\n",
    "}\n",
    "\n",
    "df = pd.DataFrame(data)\n",
    "print(df)\n"
   ]
  },
  {
   "cell_type": "code",
   "execution_count": 4,
   "id": "89dd99dc",
   "metadata": {},
   "outputs": [
    {
     "name": "stdout",
     "output_type": "stream",
     "text": [
      "             GDP  Inflation Rate  Production  Consumption  Oil Prices  \\\n",
      "0   4.315165e+10          0.0688    2.647203     0.384391       43.36   \n",
      "1   5.712367e+10          0.0758    2.833078     0.416543       61.06   \n",
      "2   8.100388e+10          0.0872    2.924707     0.436816       60.85   \n",
      "3   1.048500e+11          0.1085    3.040792     0.466726       95.95   \n",
      "4   1.334420e+11          0.1714    3.016963     0.536800       44.60   \n",
      "5   1.153090e+11          0.0732    3.244222     0.407592       79.39   \n",
      "6   1.480470e+11          0.0740    3.394558     0.478710       91.38   \n",
      "7   1.926270e+11          0.0842    3.457141     0.553140       98.83   \n",
      "8   2.079990e+11          0.0510    3.392933     0.502245       91.83   \n",
      "9   2.366350e+11          0.0585    3.499920     0.507464       98.17   \n",
      "10  2.214160e+11          0.0671    3.629783     0.504762       53.45   \n",
      "11  1.843880e+11          0.0667    3.692041     0.641371       37.13   \n",
      "12  1.372780e+11          0.1455    3.584884     0.681142       53.75   \n",
      "13  1.668060e+11          0.0744    3.964866     0.680665       60.46   \n",
      "14  1.793400e+11          0.0602    4.149896     0.641846       45.15   \n",
      "15  1.816670e+11          0.0525    4.150441     0.626333       61.14   \n",
      "16  1.710820e+11          0.0675    3.933291     0.577750       48.52   \n",
      "17  1.971120e+11          0.0800    3.930675     0.581853       75.21   \n",
      "18  2.204950e+11          0.2030    4.250786     0.672512       80.51   \n",
      "\n",
      "        Revenue  \n",
      "0    63741.0930  \n",
      "1    63773.6380  \n",
      "2    75227.5234  \n",
      "3    94993.8047  \n",
      "4   118815.0890  \n",
      "5   126181.1330  \n",
      "6   138240.9400  \n",
      "7   140478.0920  \n",
      "8   143061.3250  \n",
      "9   190021.6720  \n",
      "10  206637.1130  \n",
      "11  213161.7620  \n",
      "12  207107.8150  \n",
      "13  222449.9540  \n",
      "14  225399.5700  \n",
      "15  239625.9500  \n",
      "16  235222.0820  \n",
      "17  238176.1160  \n",
      "18  255627.3090  \n"
     ]
    }
   ],
   "source": [
    "revenue_str = '63741.093 63773.638 75227.5234 94993.8047 118815.089 126181.133 138240.94 140478.092 143061.325 190021.672 206637.113 213161.762 207107.815 222449.954 225399.57 239625.95 235222.082 238176.116 255627.309'\n",
    "revenue_list = revenue_str.split()\n",
    "revenue = np.array([float(r) for r in revenue_list])\n",
    "\n",
    "data['Revenue'] = revenue\n",
    "\n",
    "new_df = pd.DataFrame(data)\n",
    "print(new_df)"
   ]
  },
  {
   "cell_type": "code",
   "execution_count": 5,
   "id": "c10efad0",
   "metadata": {},
   "outputs": [],
   "source": [
    "from sklearn.ensemble import RandomForestRegressor\n",
    "from sklearn.model_selection import train_test_split, cross_val_score\n",
    "from sklearn.preprocessing import MinMaxScaler\n",
    "from sklearn.metrics import mean_squared_error, r2_score\n",
    "\n",
    "# Extracting independent and dependent variables\n",
    "X = new_df.drop('Revenue', axis=1)\n",
    "y = new_df['Revenue']\n",
    "\n",
    "# Splitting the dataset into training and testing sets\n",
    "X_train, X_test, y_train, y_test = train_test_split(X, y, test_size=0.2, random_state=1)\n",
    "\n",
    "# Scaling the independent variables\n",
    "scaler = MinMaxScaler()\n",
    "X_train_scaled = scaler.fit_transform(X_train)\n",
    "X_test_scaled = scaler.transform(X_test)\n"
   ]
  },
  {
   "cell_type": "code",
   "execution_count": 6,
   "id": "4e3e9bb5",
   "metadata": {},
   "outputs": [
    {
     "name": "stdout",
     "output_type": "stream",
     "text": [
      "Best hyperparameters: {'max_depth': None, 'max_features': 'auto', 'min_samples_leaf': 1, 'min_samples_split': 2, 'n_estimators': 50}\n"
     ]
    }
   ],
   "source": [
    "from sklearn.model_selection import GridSearchCV\n",
    "from math import sqrt\n",
    "# Creating the parameter grid for the grid search\n",
    "param_grid = {\n",
    "    'n_estimators': [10, 50, 100, 200],\n",
    "    'max_depth': [None, 10, 20, 30],\n",
    "    'min_samples_split': [2, 5, 10],\n",
    "    'min_samples_leaf': [1, 2, 4],\n",
    "    'max_features': ['auto', 'sqrt']\n",
    "}\n",
    "\n",
    "# Creating the RandomForestRegressor model\n",
    "rf = RandomForestRegressor(random_state=42)\n",
    "\n",
    "# Performing the grid search with RMSE as the scoring metric\n",
    "grid_search = GridSearchCV(estimator=rf, param_grid=param_grid, scoring='neg_root_mean_squared_error', cv=5, n_jobs=-1)\n",
    "\n",
    "# Fitting the grid search to the training data\n",
    "grid_search.fit(X_train_scaled, y_train)\n",
    "\n",
    "# Getting the best hyperparameters\n",
    "best_params = grid_search.best_params_\n",
    "print(f\"Best hyperparameters: {best_params}\")\n",
    "\n"
   ]
  },
  {
   "cell_type": "code",
   "execution_count": 7,
   "id": "20d1066a",
   "metadata": {},
   "outputs": [
    {
     "name": "stdout",
     "output_type": "stream",
     "text": [
      "Root Mean Squared Error: 12064.22\n"
     ]
    }
   ],
   "source": [
    "# Creating a new RandomForestRegressor model with the best hyperparameters\n",
    "best_rf = RandomForestRegressor(**best_params, random_state=1)\n",
    "\n",
    "# Fitting the model to the training data\n",
    "best_rf.fit(X_train_scaled, y_train)\n",
    "\n",
    "# Making predictions on the test data\n",
    "y_pred = best_rf.predict(X_test_scaled)\n",
    "\n",
    "# Calculating the RMSE\n",
    "rmse = sqrt(mean_squared_error(y_test, y_pred))\n",
    "print(f\"Root Mean Squared Error: {rmse:.2f}\")\n"
   ]
  },
  {
   "cell_type": "markdown",
   "id": "50848f84",
   "metadata": {},
   "source": [
    "---"
   ]
  },
  {
   "cell_type": "code",
   "execution_count": 12,
   "id": "cac2813b",
   "metadata": {},
   "outputs": [],
   "source": [
    "import pandas as pd\n",
    "def predict_revenue(gdp, inflation_rate, production, consumption, oil_price):\n",
    "    # Create a DataFrame from the input values\n",
    "    input_data = pd.DataFrame({\n",
    "        'GDP': [gdp],\n",
    "        'Inflation Rate': [inflation_rate],\n",
    "        'Production': [production],\n",
    "        'Consumption': [consumption],\n",
    "        'Oil Prices': [oil_price]\n",
    "    })\n",
    "\n",
    "    # Scale the input data using the same scaler used for training data\n",
    "    input_data_scaled = scaler.transform(input_data)\n",
    "\n",
    "    # Make the prediction using the best_rf model\n",
    "    predicted_revenue = best_rf.predict(input_data_scaled)[0]\n",
    "\n",
    "    return predicted_revenue\n"
   ]
  },
  {
   "cell_type": "code",
   "execution_count": 10,
   "id": "3e9a20e2",
   "metadata": {},
   "outputs": [
    {
     "name": "stdout",
     "output_type": "stream",
     "text": [
      "Predicted Revenue: 228520.07\n"
     ]
    }
   ],
   "source": [
    "gdp =  133442000000.0\n",
    "inflation_rate =  0.1377\n",
    "production = 4.69622423224376\n",
    "consumption = 0.7735\n",
    "oil_price = 65.39135395\n",
    "predicted_revenue = predict_revenue(gdp, inflation_rate, production, consumption, oil_price)\n",
    "print(f\"Predicted Revenue: {predicted_revenue:.2f}\")"
   ]
  },
  {
   "cell_type": "code",
   "execution_count": 14,
   "id": "9d127308",
   "metadata": {},
   "outputs": [
    {
     "data": {
      "image/png": "[encoded data removed]",
      "text/plain": [
       "<Figure size 1000x600 with 1 Axes>"
      ]
     },
     "metadata": {},
     "output_type": "display_data"
    }
   ],
   "source": [
    "import matplotlib.pyplot as plt\n",
    "\n",
    "# Plotting the predicted vs actual values\n",
    "plt.figure(figsize=(10, 6))\n",
    "plt.scatter(y_test, y_pred, alpha=0.5)\n",
    "plt.xlabel('Actual Values')\n",
    "plt.ylabel('Predicted Values')\n",
    "plt.title('Actual vs Predicted Values - revenue')\n",
    "plt.plot([min(y_test), max(y_test)], [min(y_test), max(y_test)], color='red', linestyle='--', lw=2)\n",
    "plt.grid(True)\n",
    "plt.show()\n",
    "\n"
   ]
  }
 ],
 "metadata": {
  "kernelspec": {
   "display_name": "Python 3 (ipykernel)",
   "language": "python",
   "name": "python3"
  },
  "language_info": {
   "codemirror_mode": {
    "name": "ipython",
    "version": 3
   },
   "file_extension": ".py",
   "mimetype": "text/x-python",
   "name": "python",
   "nbconvert_exporter": "python",
   "pygments_lexer": "ipython3",
   "version": "3.9.7"
  }
 },
 "nbformat": 4,
 "nbformat_minor": 5
}
